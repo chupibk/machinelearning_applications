{
 "cells": [
  {
   "cell_type": "markdown",
   "metadata": {},
   "source": [
    "# Classify and clustering virus species using Genomic data\n",
    "\n",
    "In this example, we'll use a genomic dataset that includes 120 samples of 4 types of virus: Ebola, measles, SARS-COVID-2, and MERS.\n",
    "\n",
    "For more data: https://www.ncbi.nlm.nih.gov/labs/virus/vssi/#/\n",
    "\n",
    "1. Classification\n",
    "2. High dimensional data visualization\n",
    "3. Clustering\n"
   ]
  },
  {
   "cell_type": "code",
   "execution_count": 107,
   "metadata": {},
   "outputs": [],
   "source": [
    "import numpy as np\n",
    "np.set_printoptions(threshold=np.inf)\n",
    "\n",
    "import pandas as pd\n",
    "pd.plotting.register_matplotlib_converters()\n",
    "import matplotlib.pyplot as plt\n",
    "%matplotlib inline\n",
    "import seaborn as sns\n",
    "import os\n",
    "import glob\n",
    "from functools import partial\n",
    "from pathlib import Path"
   ]
  },
  {
   "cell_type": "code",
   "execution_count": 3,
   "metadata": {},
   "outputs": [],
   "source": [
    "from Bio import SeqIO"
   ]
  },
  {
   "cell_type": "code",
   "execution_count": 79,
   "metadata": {},
   "outputs": [],
   "source": [
    "from sklearn.feature_extraction.text import CountVectorizer\n",
    "from sklearn.model_selection import train_test_split\n",
    "from sklearn.metrics import accuracy_score, f1_score, precision_score, recall_score\n"
   ]
  },
  {
   "cell_type": "markdown",
   "metadata": {},
   "source": [
    "# Naive sentencing for classification\n"
   ]
  },
  {
   "cell_type": "code",
   "execution_count": 60,
   "metadata": {},
   "outputs": [],
   "source": [
    "def Kmers_funct(seq, size=4):\n",
    "    return [seq[x:x+size].lower() for x in range(len(seq) - size + 1)]\n",
    "\n",
    "\n",
    "def nucleotide2protein(dnasequence,reduce_protein=True, return_str=True):\n",
    "    #DNA -> RNA -> amino acids -> proteins\n",
    "    mRNA = dnasequence.transcribe()\n",
    "    aacid = mRNA.translate(table=1, cds=False)\n",
    "    proteins = aacid.split('*')\n",
    "    if reduce_protein:\n",
    "        proteins = [p for p in proteins if len(p) >=20]\n",
    "    if return_str:\n",
    "        proteins = [str(p) for p in proteins]\n",
    "    return proteins\n",
    "\n",
    "def parse_data(sname, transform2protein=True, **kwargs):\n",
    "    samples = SeqIO.parse(sname, 'fasta')\n",
    "    sample_seqs = [s.seq for s in samples]\n",
    "    num = len(sample_seqs)\n",
    "    if transform2protein:\n",
    "        sample_proteins = [nucleotide2protein(s, **kwargs) for s in sample_seqs]\n",
    "        return sample_proteins\n",
    "    else:\n",
    "        return sample_seqs\n",
    "\n",
    "def sentencize_kmer(seq_list, word_size=6):\n",
    "    seq = ''.join(seq_list)\n",
    "    # apply Kmer-counting to seq-list\n",
    "    kmers = Kmers_funct(seq, size=word_size) #k-mer words of length 6\n",
    "    return ' '.join(kmers)\n",
    "\n",
    "def chunks(lst, size=6):\n",
    "    return [lst[i:i+size] for i in range(0, len(lst), size)]\n",
    "\n",
    "def sentencize_chunk(seq_list, word_size=6):\n",
    "    from itertools import chain\n",
    "    word_list = [chunks(seq, size=word_size) for seq in seq_list]\n",
    "#     print(word_list)\n",
    "    word_list = list(chain(*word_list))\n",
    "    return ' '.join(word_list)\n"
   ]
  },
  {
   "cell_type": "code",
   "execution_count": 56,
   "metadata": {},
   "outputs": [
    {
     "name": "stderr",
     "output_type": "stream",
     "text": [
      "/Users/chupi/anaconda3/envs/deeplearning/lib/python3.6/site-packages/Bio/Seq.py:2859: BiopythonWarning: Partial codon, len(sequence) not a multiple of three. Explicitly trim the sequence or add trailing N before translation. This may become an error in future.\n",
      "  BiopythonWarning,\n"
     ]
    }
   ],
   "source": [
    "sname = 'data/virus/covid.fasta'\n",
    "xs = parse_data(sname, reduce_protein=True, return_str=True)"
   ]
  },
  {
   "cell_type": "code",
   "execution_count": 57,
   "metadata": {},
   "outputs": [
    {
     "data": {
      "text/plain": [
       "['NLCGCHSAACLVHSRSIINN',\n",
       " 'LVYLLQAAYGFVRVAADHQHI',\n",
       " 'VSSGCDRKVRWRALSLVSTRKHTSNSVCLFYRFATCSYVALETPWRRSYQRHVNILKMALVA',\n",
       " 'KLKKAFCLNLNSPMCSSNVRMLELHLMVMLWLSW',\n",
       " 'QNSKAFSTVVVVRHLVSLSLMWAKYQWLTARFFFVRTVIKELVAIVTAPI',\n",
       " 'ATSLALILMKIFKKTGTLNIAVVLPVNSCVSLTEGHTLAMSITTSVALMATLLSALKTF',\n",
       " 'HVLVKLHALCPNNWTLLTLRGVYTAAVNMSMKLLGTRNVLKRAMNCRHLLKLNWQRNLTPSMGNVQILYFP',\n",
       " 'SRLFNQGLKRKSLMALWVEFDLSIQLRHQMNATKCAFQLS',\n",
       " 'SVIIVVKLHGRRAILLKPLANFVALRI',\n",
       " 'LKKVPLLVVTYPKMLLLKFIVQHVTIQK',\n",
       " 'KPFFVRVVALLPLEAVCSLMLVAITSVPIGFHVLALT',\n",
       " 'VVTIQVLLEKVPKVLMTTFLKYSKKRKSTSILLVTLNLMKRSPLFWHLFLLPQVLLWKL',\n",
       " 'KVWIIKHSNKLLNPVVILKLQKEKLKKVPGILVNRNQY',\n",
       " 'VLFMHLHQRLLVLYDQFSPALLKLLKILCVFYRRPL',\n",
       " 'LTSLALFMKNSNPSLIGLKRSLRKV',\n",
       " 'SFLETVGKLLNLSQPVLVKLSVDKLSPVQRKLRRVFRHSLSL',\n",
       " 'INFWLCVLTLSLLVELNLKP',\n",
       " 'VKHLSRTQRDCTESVLNPEKKLAYSCL',\n",
       " 'NNLLVKLLKLHWLVHQFVLTGLCCSKSKTQKSTVPLHLI',\n",
       " 'QTIPSHSKAVHQQRLLLVMTL',\n",
       " 'ISLLNLMKGLIKYLMRSALPIQLNSVQK',\n",
       " 'MSGVWLHTTYLMSLVSLNWLHICIVLSTLQMRMKKKVIVKKKSLSHQLNMSMVLKMITKVNLWNLVPLLLLFNLKKSKKKIG',\n",
       " 'MMIVNKLLVNKTAVRTIRQLLFKQLLRFNLN',\n",
       " 'NQQWLLMQPMFTLNMEEVLQEP',\n",
       " 'ADTILLNTVFMLSAQMLTKVKTFNFLRVLMKILISTKFYLHHYYQLVFLVLTLYIL',\n",
       " 'RVKSKLNKRSLRFLKRKLSHL',\n",
       " 'LKVNLQLNRENKMIRKSKLVLKKLQQLWKKLSSSQKTCYFILTLMAIFIQILPLLLVTLTSLS',\n",
       " 'RRQRQCLKSVKVPFTFYHLLSLMRSKKFLELFLGICEKCLHMQKKHAN',\n",
       " 'FQLYSVNIRVLKYKRVWLIMVLDFTFTPVKQL',\n",
       " 'DLSKCQLQFLFLHLMLLQRIMVILLLLLKHLKNILLKPSHLLVPIKIGPILDNLHN',\n",
       " 'NFLREVIKVYITLVILPHST',\n",
       " 'NLIIHMKVKHFMFYLMMTLYVLRLLSTTTQLILVFWVGTCQH',\n",
       " 'SLIHLLYKMLITEQGLVKLLTFVHLS',\n",
       " 'KLLCTWAHFLMNNLRKVFRYLVRVVNKLQNI',\n",
       " 'CQHHLLSMNLSMVHLLVLVSTLVITSVVTINI',\n",
       " 'TVLYLQSPQNTKVLLRMFSTKKTVTQQP',\n",
       " 'NQLLINWMVLFVQKLTLSWTIIIRKTILISQSNQLILYQTNHIQTQASIILSLYVIISNLLMI',\n",
       " 'MVMWWLLIINTTHPLLRKELNCYINLLFGMLTMQLIKPRINQIPGVYVVFGAQNQLKHQIRLMY',\n",
       " 'TVFVLIICLISLLYCYNCVLLLEVQILELKHLCRLL',\n",
       " 'TLLMSLLQPTVLVLYLVVFVLVV',\n",
       " 'LQSGFWHIFFSLGFSMYLDWLQSCNCFSAILQYILLVILGLCG',\n",
       " 'LILYKWPRFQLWLECTSSLHHFIMYGKVMCML',\n",
       " 'CVTNVIEQQESNVQLLLMVLEGPFMSMLMEVKAFANYTIGIVLIVIHSVLVVHLLVMKLRETCHYSLKDQ',\n",
       " 'RMVPSIFTLIKLVKRLMKDILSLILLT',\n",
       " 'FLMVNQNVKNHLQNQRLFTTVSLCVNLYCY',\n",
       " 'CLMLVIVRKLQLKCLMLTLIRFHQLLTYQWKNSKH',\n",
       " 'YGTLKISCHCLNNYENKYVVLLKRITYLLS',\n",
       " 'HLQILVLLTNMLILTHGLASVVVVILMTKLAH',\n",
       " 'QEKWVLSCLVCLARYYAQLMVTFCISYLEFLVQLVTSVTHHQNL',\n",
       " 'STLTLQHQLVFWLLNVQFLKMLLVSQYHIVMIPMY',\n",
       " 'KVLLLMKVYALTHVMCSWMALLFNFLTPTLKVLLEW',\n",
       " 'QLLILSTVGTALVKDQKLVFVYLLVVDGYLTMIITDLYQEFSVV',\n",
       " 'QLLISFVFPQSISIGSLVIT',\n",
       " 'LFIISTSILVEQWIQLATEKLLVVISQRLSMTSVTQVLMFFTNHHKPLSPQLFCRVVLEKWHSHLVKLRVVWYK',\n",
       " 'SAPLKTCLTLIMKIYSFVSLIIISWYRLVMFNSGLLDILCKIVYLSLRLIQPILRHLSISLFAFNQDRLFQC',\n",
       " 'GPISLLRVHSLMVHVVVLVLT',\n",
       " 'IMTVSLFVTCTIWNYQLEFMLAQT',\n",
       " 'KVTFMDLLLTGKQHKQLVRTQLLQLMF',\n",
       " 'METGGFSIDLPQLLMTLTLWL',\n",
       " 'KMNLHLLMLLDNAQVLLSKVQ',\n",
       " 'SRVLNGLCSFFCMKMPFYLLLWVLLLCLLLQ',\n",
       " 'CLSNISMHFSVCFCYLLLPL',\n",
       " 'LQLSCFWPEVLFLCVLSIALFSS',\n",
       " 'LKILLKPLKKWFHYFLFCFPCRVL',\n",
       " 'PQSLVPFHHMQLLLLLKKLMSRLLLMVILKLFLKS',\n",
       " 'MWLNLNLTVMQPCNVSWKRWLIKL',\n",
       " 'PKCINRLDLRTRGQKLLVLCRQCFSLCLESWIMMHSTTLSTMQEMVVFP',\n",
       " 'WLSYQTITHIKIRVMVQHLLMHQHCGKSNRL',\n",
       " 'GPILLSNYRIMSLVLLHYDRCLVLPVLHKLLALMTMR',\n",
       " 'LTTTQQREVGLYLHCYPIYRI',\n",
       " 'NGLDSLRVMELVLSIQNWNHLVGLLQTHLKVLK',\n",
       " 'LPQYVYKLVMQQKCLPIQLYYLSVLLL',\n",
       " 'LVGDNQSLIVLRCCVHTLVLVRQ',\n",
       " 'QLHRKPIWIKNPLVVHRVVCTAVAT',\n",
       " 'KVSMYKYLQLVLMTLWVLHLKTQSVPSAVCGKVMAVVVINSANPCFSQLMHNRF',\n",
       " 'WSSCCRFLLFIVNAYINLDQGFNCRVTC',\n",
       " 'CFILYSVPTYKFWTTSEKNIC',\n",
       " 'RSYCSNWNKQILWWLAQHVKNCL',\n",
       " 'LCVPSLPRSIKNPRGRLFCR',\n",
       " 'GYVHTAYSLTGCWGLCSLQFTDFIKMWCLHT',\n",
       " 'LFCADITYSNAIKCTYTSATRALC',\n",
       " 'QCCKLSKGWYAKVFYTPGTTWYW',\n",
       " 'ESFCYWPSSLLPFCSHSVYSLLSCRC',\n",
       " 'HVYHPRRSYKTCTCMDWLRCRGVSCY',\n",
       " 'TPHTTYVQRTSLECSAYKDCTNVK',\n",
       " 'TCHMLFHCFRHLCLLASFYWI',\n",
       " 'VSWKTSSVRYRLCTTKVCYVYNTLQFRWCCL',\n",
       " 'YCDLGLQKRCSSTYIYYWCLFYD',\n",
       " 'RHNDECRKIYSTVSIFKHINISCTL',\n",
       " 'RSCTRYSCFKTVVAYGYAACRFRS',\n",
       " 'RGFFHLHLWVYTTKASSWRFRGYKDNRTFLEC',\n",
       " 'LSWQTTRTNRWLCHACKLHILEEYKSNSVVFLFFI',\n",
       " 'SLVSVLILQPELNYPLHTLILSHVVFITLTKFSDPQFYIQLRTCSYLSFPMLLGSMLYMSLGPMVLRGLITLSYHLMMVFILLPLRSLT',\n",
       " 'IRRPSPYLLLITLLMLLLKSVNFNFVMIHFWVFITTKTTKVGWKVSSEFILVRIIALLNMSLSLFLWTLKENRVISKILGNLCLRILMVILKYILSTRLLI',\n",
       " 'LLVILLQVGQLVLQLIMWVIFNLGLFY',\n",
       " 'KKESIKLLTLESNQQNLLLDFLILQTCALLVKFLTPPDLHLFMLGTGRESATVLLIILSYIIPHHFPLLSVMECLLLN',\n",
       " 'LEVMKSDKSLQGKLERLLIIIINYQMILQAAL',\n",
       " 'LGILTILILRLVVIIITCIDCLGSLISNLLREIFQLKSIRPVAHLVMVLKVLIVTFLYNHMVSNPLMVLVTNHTE',\n",
       " 'YFLLNFYMHQQLFVDLKSLLIWLKTNVSISTSMV',\n",
       " 'QAQVFLLSLTKSFCLSNNLAETLLTLLMLSVIHRHLRFLTLHHVLLVVSVL',\n",
       " 'HQEQILLTRLLFFIRMLTAQKSLLLFMQINLLLLGVFILQVLMFFKHVQAV',\n",
       " 'GLNMSTTHMSVTYPLVQVYALVIRLRLILLGGHVV',\n",
       " 'LVNPSLPTLCHLVQKIQLLTLITLLPYPQILLLVLPQKFYQCL',\n",
       " 'IVQCTFVVIQLNAAIFCCNMAVFVHN',\n",
       " 'LLNKTKTPKKFLHKSNKFTKHHQLKILVVLIFHKYYQIHQNQARGHLLKIYFSTK',\n",
       " 'HLQMLASSNNMVIALVILLLETSFVHKSLTALLFCHLCSQMK',\n",
       " 'RVQSLLVGPLVQVLHYKYHLLCKWLIGLMVLELHRMFSMRTKN',\n",
       " 'LPTNLIVLLAKFKTHFLPQQVHLENFKMWSTKMHKL',\n",
       " 'LELQKSELLLILLLLKCQSVYLDNQKELIFVERAIILCPSLSQHLMV',\n",
       " 'LMSLHKKRTSQLLLPFVMMEKHTFLVKVSLFQMAHTGL',\n",
       " 'HKGIFMNHKSLLQTTHLCLVTVML',\n",
       " 'PVAVVVSRAVVLVDPAANLMKTTLSQCSKESNYITHKRTYGFVYENLHNWNCNFEAR',\n",
       " 'NQGCYSFRFCSRYCNDTDTSLTPFRMAYCWRCTSCCFSERFQNHNPQKEMATSTLQGCSLCLQLAVVVCNSLLTPFARCCWP',\n",
       " 'SPFSLSLCFSLLLAEYKLCKNNNEALALLEMPFQKPITL',\n",
       " 'KMGIWSKRLCCITQLLHFRLLPAVLNSIEYRHWC',\n",
       " 'RTSFSCFRGILASYTSHPYCASIVCVLLQYC',\n",
       " 'SSGLNELNIILVFLFGTLILAMADSNGTITVEELKKLLEQWNLVIGFLFLTWICLLQFAYANRNRFLYIIKLIFLWLLWPVTLACFVLAAVYRINWITGGIAIAMACLVGLMWLSYFIASFRLFARTRSMWSFNPETNILLNVPLHGTILTRPLLESELVIGAVILRGHLRIAGHHLGRCDIKDLPKEITVATSRTLSYYKLGASQRVAGDSGFAAYSRYRIGNYKLNTDHSSSSDNIALLVQ',\n",
       " 'RYNSTFKRTLLFWNIRGQFTISSSS',\n",
       " 'TVHQTRGSSRTLLSNFSYCCGNSVYNTLLHTQKKDRMIELSLIDFYLCFLAFLLFLVLIMLIIFWFSLELQDHNETCHA',\n",
       " 'TNMKFLVFLGIITTVAAFHQECSLQSCTQHQPYVVDDPCPIHFYSKWYIRVGARKSAPLIELCVDEAGSKSPIQYIDIGNYTVSCLPFTINCQEPKLGSLVVRCSFYEDFLEYHDVRVVLDFI',\n",
       " 'TNKLKCLIMDPKISEMHPALRLVDPQIQLAVTRMENAVGRDQNNVGPKVYPIILRLGSPLSLNMARKTLNSLEDKAFQLTPIAVQMTKLATTEELPDEFVVVTVK',\n",
       " 'ELGQKLDFPMVLTKTASYGLQLREP',\n",
       " 'IHQKITLAPAILLTMLQSCYNFLKEQHCQKASTQKGAEAAVKPLLVPHHVVATVQETQLQAAVGELLLLEWLAMAVMLLLLCCCLTD',\n",
       " 'TSLRAKCLVKANNNKAKLSLRNLLLRLLRSLGKNVLPLKHTM',\n",
       " 'HKLSADVVQNKPKEILGTRN',\n",
       " 'SDKELITNIGRKLHNLPPALQRSSECRALAWKSHLRERG',\n",
       " 'PTQVPSNWMTKIQISKIKSFC',\n",
       " 'ISILTHTKHSHQQSLKRTKRRRLMKLKPYRRDRRNSKL',\n",
       " 'AVLTQLRPKLMQTTQGRWAI',\n",
       " 'SVCNIREDLKEPPHFHRGHAEYDRVYSEQC']"
      ]
     },
     "execution_count": 57,
     "metadata": {},
     "output_type": "execute_result"
    }
   ],
   "source": [
    "xs[0]"
   ]
  },
  {
   "cell_type": "code",
   "execution_count": 61,
   "metadata": {
    "scrolled": true
   },
   "outputs": [
    {
     "data": {
      "text/plain": [
       "'NLCGCH SAACLV HSRSII NN LVYLLQ AAYGFV RVAADH QHI VSSGCD RKVRWR ALSLVS TRKHTS NSVCLF YRFATC SYVALE TPWRRS YQRHVN ILKMAL VA KLKKAF CLNLNS PMCSSN VRMLEL HLMVML WLSW QNSKAF STVVVV RHLVSL SLMWAK YQWLTA RFFFVR TVIKEL VAIVTA PI ATSLAL ILMKIF KKTGTL NIAVVL PVNSCV SLTEGH TLAMSI TTSVAL MATLLS ALKTF HVLVKL HALCPN NWTLLT LRGVYT AAVNMS MKLLGT RNVLKR AMNCRH LLKLNW QRNLTP SMGNVQ ILYFP SRLFNQ GLKRKS LMALWV EFDLSI QLRHQM NATKCA FQLS SVIIVV KLHGRR AILLKP LANFVA LRI LKKVPL LVVTYP KMLLLK FIVQHV TIQK KPFFVR VVALLP LEAVCS LMLVAI TSVPIG FHVLAL T VVTIQV LLEKVP KVLMTT FLKYSK KRKSTS ILLVTL NLMKRS PLFWHL FLLPQV LLWKL KVWIIK HSNKLL NPVVIL KLQKEK LKKVPG ILVNRN QY VLFMHL HQRLLV LYDQFS PALLKL LKILCV FYRRPL LTSLAL FMKNSN PSLIGL KRSLRK V SFLETV GKLLNL SQPVLV KLSVDK LSPVQR KLRRVF RHSLSL INFWLC VLTLSL LVELNL KP VKHLSR TQRDCT ESVLNP EKKLAY SCL NNLLVK LLKLHW LVHQFV LTGLCC SKSKTQ KSTVPL HLI QTIPSH SKAVHQ QRLLLV MTL ISLLNL MKGLIK YLMRSA LPIQLN SVQK MSGVWL HTTYLM SLVSLN WLHICI VLSTLQ MRMKKK VIVKKK SLSHQL NMSMVL KMITKV NLWNLV PLLLLF NLKKSK KKIG MMIVNK LLVNKT AVRTIR QLLFKQ LLRFNL N NQQWLL MQPMFT LNMEEV LQEP ADTILL NTVFML SAQMLT KVKTFN FLRVLM KILIST KFYLHH YYQLVF LVLTLY IL RVKSKL NKRSLR FLKRKL SHL LKVNLQ LNRENK MIRKSK LVLKKL QQLWKK LSSSQK TCYFIL TLMAIF IQILPL LLVTLT SLS RRQRQC LKSVKV PFTFYH LLSLMR SKKFLE LFLGIC EKCLHM QKKHAN FQLYSV NIRVLK YKRVWL IMVLDF TFTPVK QL DLSKCQ LQFLFL HLMLLQ RIMVIL LLLLKH LKNILL KPSHLL VPIKIG PILDNL HN NFLREV IKVYIT LVILPH ST NLIIHM KVKHFM FYLMMT LYVLRL LSTTTQ LILVFW VGTCQH SLIHLL YKMLIT EQGLVK LLTFVH LS KLLCTW AHFLMN NLRKVF RYLVRV VNKLQN I CQHHLL SMNLSM VHLLVL VSTLVI TSVVTI NI TVLYLQ SPQNTK VLLRMF STKKTV TQQP NQLLIN WMVLFV QKLTLS WTIIIR KTILIS QSNQLI LYQTNH IQTQAS IILSLY VIISNL LMI MVMWWL LIINTT HPLLRK ELNCYI NLLFGM LTMQLI KPRINQ IPGVYV VFGAQN QLKHQI RLMY TVFVLI ICLISL LYCYNC VLLLEV QILELK HLCRLL TLLMSL LQPTVL VLYLVV FVLVV LQSGFW HIFFSL GFSMYL DWLQSC NCFSAI LQYILL VILGLC G LILYKW PRFQLW LECTSS LHHFIM YGKVMC ML CVTNVI EQQESN VQLLLM VLEGPF MSMLME VKAFAN YTIGIV LIVIHS VLVVHL LVMKLR ETCHYS LKDQ RMVPSI FTLIKL VKRLMK DILSLI LLT FLMVNQ NVKNHL QNQRLF TTVSLC VNLYCY CLMLVI VRKLQL KCLMLT LIRFHQ LLTYQW KNSKH YGTLKI SCHCLN NYENKY VVLLKR ITYLLS HLQILV LLTNML ILTHGL ASVVVV ILMTKL AH QEKWVL SCLVCL ARYYAQ LMVTFC ISYLEF LVQLVT SVTHHQ NL STLTLQ HQLVFW LLNVQF LKMLLV SQYHIV MIPMY KVLLLM KVYALT HVMCSW MALLFN FLTPTL KVLLEW QLLILS TVGTAL VKDQKL VFVYLL VVDGYL TMIITD LYQEFS VV QLLISF VFPQSI SIGSLV IT LFIIST SILVEQ WIQLAT EKLLVV ISQRLS MTSVTQ VLMFFT NHHKPL SPQLFC RVVLEK WHSHLV KLRVVW YK SAPLKT CLTLIM KIYSFV SLIIIS WYRLVM FNSGLL DILCKI VYLSLR LIQPIL RHLSIS LFAFNQ DRLFQC GPISLL RVHSLM VHVVVL VLT IMTVSL FVTCTI WNYQLE FMLAQT KVTFMD LLLTGK QHKQLV RTQLLQ LMF METGGF SIDLPQ LLMTLT LWL KMNLHL LMLLDN AQVLLS KVQ SRVLNG LCSFFC MKMPFY LLLWVL LLCLLL Q CLSNIS MHFSVC FCYLLL PL LQLSCF WPEVLF LCVLSI ALFSS LKILLK PLKKWF HYFLFC FPCRVL PQSLVP FHHMQL LLLLKK LMSRLL LMVILK LFLKS MWLNLN LTVMQP CNVSWK RWLIKL PKCINR LDLRTR GQKLLV LCRQCF SLCLES WIMMHS TTLSTM QEMVVF P WLSYQT ITHIKI RVMVQH LLMHQH CGKSNR L GPILLS NYRIMS LVLLHY DRCLVL PVLHKL LALMTM R LTTTQQ REVGLY LHCYPI YRI NGLDSL RVMELV LSIQNW NHLVGL LQTHLK VLK LPQYVY KLVMQQ KCLPIQ LYYLSV LLL LVGDNQ SLIVLR CCVHTL VLVRQ QLHRKP IWIKNP LVVHRV VCTAVA T KVSMYK YLQLVL MTLWVL HLKTQS VPSAVC GKVMAV VVINSA NPCFSQ LMHNRF WSSCCR FLLFIV NAYINL DQGFNC RVTC CFILYS VPTYKF WTTSEK NIC RSYCSN WNKQIL WWLAQH VKNCL LCVPSL PRSIKN PRGRLF CR GYVHTA YSLTGC WGLCSL QFTDFI KMWCLH T LFCADI TYSNAI KCTYTS ATRALC QCCKLS KGWYAK VFYTPG TTWYW ESFCYW PSSLLP FCSHSV YSLLSC RC HVYHPR RSYKTC TCMDWL RCRGVS CY TPHTTY VQRTSL ECSAYK DCTNVK TCHMLF HCFRHL CLLASF YWI VSWKTS SVRYRL CTTKVC YVYNTL QFRWCC L YCDLGL QKRCSS TYIYYW CLFYD RHNDEC RKIYST VSIFKH INISCT L RSCTRY SCFKTV VAYGYA ACRFRS RGFFHL HLWVYT TKASSW RFRGYK DNRTFL EC LSWQTT RTNRWL CHACKL HILEEY KSNSVV FLFFI SLVSVL ILQPEL NYPLHT LILSHV VFITLT KFSDPQ FYIQLR TCSYLS FPMLLG SMLYMS LGPMVL RGLITL SYHLMM VFILLP LRSLT IRRPSP YLLLIT LLMLLL KSVNFN FVMIHF WVFITT KTTKVG WKVSSE FILVRI IALLNM SLSLFL WTLKEN RVISKI LGNLCL RILMVI LKYILS TRLLI LLVILL QVGQLV LQLIMW VIFNLG LFY KKESIK LLTLES NQQNLL LDFLIL QTCALL VKFLTP PDLHLF MLGTGR ESATVL LIILSY IIPHHF PLLSVM ECLLLN LEVMKS DKSLQG KLERLL IIIINY QMILQA AL LGILTI LILRLV VIIITC IDCLGS LISNLL REIFQL KSIRPV AHLVMV LKVLIV TFLYNH MVSNPL MVLVTN HTE YFLLNF YMHQQL FVDLKS LLIWLK TNVSIS TSMV QAQVFL LSLTKS FCLSNN LAETLL TLLMLS VIHRHL RFLTLH HVLLVV SVL HQEQIL LTRLLF FIRMLT AQKSLL LFMQIN LLLLGV FILQVL MFFKHV QAV GLNMST THMSVT YPLVQV YALVIR LRLILL GGHVV LVNPSL PTLCHL VQKIQL LTLITL LPYPQI LLLVLP QKFYQC L IVQCTF VVIQLN AAIFCC NMAVFV HN LLNKTK TPKKFL HKSNKF TKHHQL KILVVL IFHKYY QIHQNQ ARGHLL KIYFST K HLQMLA SSNNMV IALVIL LLETSF VHKSLT ALLFCH LCSQMK RVQSLL VGPLVQ VLHYKY HLLCKW LIGLMV LELHRM FSMRTK N LPTNLI VLLAKF KTHFLP QQVHLE NFKMWS TKMHKL LELQKS ELLLIL LLLKCQ SVYLDN QKELIF VERAII LCPSLS QHLMV LMSLHK KRTSQL LLPFVM MEKHTF LVKVSL FQMAHT GL HKGIFM NHKSLL QTTHLC LVTVML PVAVVV SRAVVL VDPAAN LMKTTL SQCSKE SNYITH KRTYGF VYENLH NWNCNF EAR NQGCYS FRFCSR YCNDTD TSLTPF RMAYCW RCTSCC FSERFQ NHNPQK EMATST LQGCSL CLQLAV VVCNSL LTPFAR CCWP SPFSLS LCFSLL LAEYKL CKNNNE ALALLE MPFQKP ITL KMGIWS KRLCCI TQLLHF RLLPAV LNSIEY RHWC RTSFSC FRGILA SYTSHP YCASIV CVLLQY C SSGLNE LNIILV FLFGTL ILAMAD SNGTIT VEELKK LLEQWN LVIGFL FLTWIC LLQFAY ANRNRF LYIIKL IFLWLL WPVTLA CFVLAA VYRINW ITGGIA IAMACL VGLMWL SYFIAS FRLFAR TRSMWS FNPETN ILLNVP LHGTIL TRPLLE SELVIG AVILRG HLRIAG HHLGRC DIKDLP KEITVA TSRTLS YYKLGA SQRVAG DSGFAA YSRYRI GNYKLN TDHSSS SDNIAL LVQ RYNSTF KRTLLF WNIRGQ FTISSS S TVHQTR GSSRTL LSNFSY CCGNSV YNTLLH TQKKDR MIELSL IDFYLC FLAFLL FLVLIM LIIFWF SLELQD HNETCH A TNMKFL VFLGII TTVAAF HQECSL QSCTQH QPYVVD DPCPIH FYSKWY IRVGAR KSAPLI ELCVDE AGSKSP IQYIDI GNYTVS CLPFTI NCQEPK LGSLVV RCSFYE DFLEYH DVRVVL DFI TNKLKC LIMDPK ISEMHP ALRLVD PQIQLA VTRMEN AVGRDQ NNVGPK VYPIIL RLGSPL SLNMAR KTLNSL EDKAFQ LTPIAV QMTKLA TTEELP DEFVVV TVK ELGQKL DFPMVL TKTASY GLQLRE P IHQKIT LAPAIL LTMLQS CYNFLK EQHCQK ASTQKG AEAAVK PLLVPH HVVATV QETQLQ AAVGEL LLLEWL AMAVML LLLCCC LTD TSLRAK CLVKAN NNKAKL SLRNLL LRLLRS LGKNVL PLKHTM HKLSAD VVQNKP KEILGT RN SDKELI TNIGRK LHNLPP ALQRSS ECRALA WKSHLR ERG PTQVPS NWMTKI QISKIK SFC ISILTH TKHSHQ QSLKRT KRRRLM KLKPYR RDRRNS KL AVLTQL RPKLMQ TTQGRW AI SVCNIR EDLKEP PHFHRG HAEYDR VYSEQC'"
      ]
     },
     "execution_count": 61,
     "metadata": {},
     "output_type": "execute_result"
    }
   ],
   "source": [
    "sentencize_chunk(xs[0])"
   ]
  },
  {
   "cell_type": "markdown",
   "metadata": {},
   "source": [
    "# Load and process data"
   ]
  },
  {
   "cell_type": "code",
   "execution_count": 63,
   "metadata": {},
   "outputs": [
    {
     "data": {
      "text/plain": [
       "['data/virus/mers.fasta',\n",
       " 'data/virus/ebola.fasta',\n",
       " 'data/virus/covid.fasta',\n",
       " 'data/virus/measles.fasta']"
      ]
     },
     "execution_count": 63,
     "metadata": {},
     "output_type": "execute_result"
    }
   ],
   "source": [
    "snames = glob.glob(\"data/virus/*.fasta\")\n",
    "snames"
   ]
  },
  {
   "cell_type": "code",
   "execution_count": 177,
   "metadata": {},
   "outputs": [
    {
     "name": "stderr",
     "output_type": "stream",
     "text": [
      "/Users/chupi/anaconda3/envs/deeplearning/lib/python3.6/site-packages/Bio/Seq.py:2859: BiopythonWarning: Partial codon, len(sequence) not a multiple of three. Explicitly trim the sequence or add trailing N before translation. This may become an error in future.\n",
      "  BiopythonWarning,\n"
     ]
    }
   ],
   "source": [
    "name_dict = {}\n",
    "docs = []\n",
    "ys = []\n",
    "for i, sname in enumerate(snames):\n",
    "    virus_name = Path(sname).stem\n",
    "    name_dict[i] = virus_name\n",
    "    \n",
    "    #read data\n",
    "    protein_lists = parse_data(sname, reduce_protein=True, return_str=True)\n",
    "    sentences = [sentencize_chunk(lst, word_size=2) for lst in protein_lists]\n",
    "    y_gt = [i]*len(sentences)\n",
    "    docs += sentences\n",
    "    ys += y_gt\n"
   ]
  },
  {
   "cell_type": "code",
   "execution_count": 178,
   "metadata": {},
   "outputs": [
    {
     "data": {
      "text/plain": [
       "120"
      ]
     },
     "execution_count": 178,
     "metadata": {},
     "output_type": "execute_result"
    }
   ],
   "source": [
    "len(docs)"
   ]
  },
  {
   "cell_type": "code",
   "execution_count": 179,
   "metadata": {},
   "outputs": [
    {
     "data": {
      "text/plain": [
       "120"
      ]
     },
     "execution_count": 179,
     "metadata": {},
     "output_type": "execute_result"
    }
   ],
   "source": [
    "len(ys)"
   ]
  },
  {
   "cell_type": "code",
   "execution_count": 180,
   "metadata": {},
   "outputs": [],
   "source": [
    "tf = CountVectorizer()\n",
    "\n",
    "xs = tf.fit_transform(docs).toarray()\n",
    "\n"
   ]
  },
  {
   "cell_type": "code",
   "execution_count": 181,
   "metadata": {},
   "outputs": [
    {
     "data": {
      "text/plain": [
       "432"
      ]
     },
     "execution_count": 181,
     "metadata": {},
     "output_type": "execute_result"
    }
   ],
   "source": [
    "len(tf.vocabulary_)"
   ]
  },
  {
   "cell_type": "markdown",
   "metadata": {},
   "source": [
    "# Classification training"
   ]
  },
  {
   "cell_type": "code",
   "execution_count": 182,
   "metadata": {},
   "outputs": [],
   "source": [
    "x_train, x_test, y_train, y_test = train_test_split(xs, ys, test_size=0.2, random_state=42, shuffle=True)"
   ]
  },
  {
   "cell_type": "code",
   "execution_count": 183,
   "metadata": {},
   "outputs": [
    {
     "data": {
      "text/plain": [
       "(96, 432)"
      ]
     },
     "execution_count": 183,
     "metadata": {},
     "output_type": "execute_result"
    }
   ],
   "source": [
    "x_train.shape"
   ]
  },
  {
   "cell_type": "code",
   "execution_count": 184,
   "metadata": {},
   "outputs": [
    {
     "data": {
      "text/plain": [
       "MultinomialNB(alpha=0.1, class_prior=None, fit_prior=True)"
      ]
     },
     "execution_count": 184,
     "metadata": {},
     "output_type": "execute_result"
    }
   ],
   "source": [
    "from sklearn.naive_bayes import MultinomialNB\n",
    "\n",
    "#create a model\n",
    "clf_bayes = MultinomialNB(alpha=0.1)\n",
    "\n",
    "#train on data\n",
    "clf_bayes.fit(x_train, y_train)\n"
   ]
  },
  {
   "cell_type": "code",
   "execution_count": 185,
   "metadata": {},
   "outputs": [
    {
     "name": "stdout",
     "output_type": "stream",
     "text": [
      "accuracy = 1.000 \n",
      "precision = 1.000 \n",
      "recall = 1.000 \n",
      "f1 = 1.000\n"
     ]
    }
   ],
   "source": [
    "y_pred = clf_bayes.predict(x_test)\n",
    "\n",
    "def calculate_metrics(y_test, y_predicted):\n",
    "    accuracy = accuracy_score(y_test, y_predicted)\n",
    "    precision = precision_score(y_test, y_predicted, average='weighted')\n",
    "    recall = recall_score(y_test, y_predicted, average='weighted')\n",
    "    f1 = f1_score(y_test, y_predicted, average='weighted')\n",
    "    print(\"accuracy = %.3f \\nprecision = %.3f \\nrecall = %.3f \\nf1 = %.3f\" % (accuracy, precision, recall, f1))\n",
    "\n",
    "calculate_metrics(y_test, y_pred)"
   ]
  },
  {
   "cell_type": "code",
   "execution_count": 186,
   "metadata": {},
   "outputs": [
    {
     "name": "stdout",
     "output_type": "stream",
     "text": [
      "accuracy = 1.000 \n",
      "precision = 1.000 \n",
      "recall = 1.000 \n",
      "f1 = 1.000\n"
     ]
    }
   ],
   "source": [
    "from sklearn import svm\n",
    "\n",
    "clf_svm = svm.SVC(C=100, gamma=0.001, kernel='rbf')\n",
    "\n",
    "#train\n",
    "clf_svm.fit(x_train, y_train)\n",
    "\n",
    "#predict and eval\n",
    "calculate_metrics(y_test, clf_svm.predict(x_test))"
   ]
  },
  {
   "cell_type": "markdown",
   "metadata": {},
   "source": [
    "### Classification with Decision Tree"
   ]
  },
  {
   "cell_type": "code",
   "execution_count": 151,
   "metadata": {},
   "outputs": [
    {
     "data": {
      "text/plain": [
       "DecisionTreeClassifier(class_weight=None, criterion='gini', max_depth=3,\n",
       "                       max_features=None, max_leaf_nodes=None,\n",
       "                       min_impurity_decrease=0.0, min_impurity_split=None,\n",
       "                       min_samples_leaf=1, min_samples_split=2,\n",
       "                       min_weight_fraction_leaf=0.0, presort=False,\n",
       "                       random_state=0, splitter='best')"
      ]
     },
     "execution_count": 151,
     "metadata": {},
     "output_type": "execute_result"
    }
   ],
   "source": [
    "from sklearn.tree import DecisionTreeClassifier\n",
    "\n",
    "clf_tree = DecisionTreeClassifier(max_depth=3, random_state=0)\n",
    "clf_tree.fit(x_train, y_train)"
   ]
  },
  {
   "cell_type": "code",
   "execution_count": 152,
   "metadata": {},
   "outputs": [
    {
     "data": {
      "text/plain": [
       "0.9166666666666666"
      ]
     },
     "execution_count": 152,
     "metadata": {},
     "output_type": "execute_result"
    }
   ],
   "source": [
    "clf_tree.score(x_test, y_test)"
   ]
  },
  {
   "cell_type": "code",
   "execution_count": 153,
   "metadata": {},
   "outputs": [
    {
     "name": "stdout",
     "output_type": "stream",
     "text": [
      "accuracy = 0.917 \n",
      "precision = 0.935 \n",
      "recall = 0.917 \n",
      "f1 = 0.915\n"
     ]
    }
   ],
   "source": [
    "y_pred = clf_tree.predict(x_test)\n",
    "\n",
    "calculate_metrics(y_test, y_pred)"
   ]
  },
  {
   "cell_type": "code",
   "execution_count": null,
   "metadata": {},
   "outputs": [],
   "source": [
    "importances = pd.DataFrame({'feature':X_train.columns,'importance':np.round(clf.feature_importances_,3)})\n",
    "importances = importances.sort_values('importance',ascending=False)"
   ]
  },
  {
   "cell_type": "code",
   "execution_count": 155,
   "metadata": {},
   "outputs": [
    {
     "data": {
      "text/plain": [
       "(array([5091, 6412, 6566]),)"
      ]
     },
     "execution_count": 155,
     "metadata": {},
     "output_type": "execute_result"
    }
   ],
   "source": [
    "#Important feature\n",
    "np.nonzero(clf_tree.feature_importances_)\n"
   ]
  },
  {
   "cell_type": "code",
   "execution_count": 157,
   "metadata": {},
   "outputs": [],
   "source": [
    "#confirm the sequence\n",
    "w2ix = tf.vocabulary_\n",
    "ix2w = {v:k for k, v in w2ix.items()}"
   ]
  },
  {
   "cell_type": "code",
   "execution_count": 162,
   "metadata": {},
   "outputs": [
    {
     "name": "stdout",
     "output_type": "stream",
     "text": [
      "scl\n",
      "vsstla\n",
      "wpfdnt\n"
     ]
    }
   ],
   "source": [
    "for ix in np.nonzero(clf_tree.feature_importances_)[0]:\n",
    "    print(ix2w[ix])"
   ]
  },
  {
   "cell_type": "code",
   "execution_count": null,
   "metadata": {},
   "outputs": [],
   "source": []
  },
  {
   "cell_type": "markdown",
   "metadata": {},
   "source": [
    "# Dimensionality reduction and visualization\n",
    "\n",
    "Ref: https://towardsdatascience.com/visualising-high-dimensional-datasets-using-pca-and-t-sne-in-python-8ef87e7915b\n",
    "\n",
    "High dimensionality -> low dimensionality \n",
    "\n",
    "PCA: \n",
    "\n",
    "t-SNE: t-Distributed Stochastic Neighbor Embedding\n",
    "\n",
    "> “t-Distributed stochastic neighbor embedding (t-SNE) minimizes the divergence between two distributions: a distribution that measures pairwise similarities of the input objects and a distribution that measures pairwise similarities of the corresponding low-dimensional points in the embedding”."
   ]
  },
  {
   "cell_type": "code",
   "execution_count": 189,
   "metadata": {},
   "outputs": [],
   "source": [
    "from mpl_toolkits.mplot3d import Axes3D\n",
    "\n",
    "from sklearn.decomposition import PCA\n",
    "from sklearn.manifold import TSNE\n",
    "import seaborn as sns\n"
   ]
  },
  {
   "cell_type": "markdown",
   "metadata": {},
   "source": [
    "### Using PCA"
   ]
  },
  {
   "cell_type": "code",
   "execution_count": 190,
   "metadata": {},
   "outputs": [],
   "source": [
    "pca = decomposition.PCA(n_components=3)\n",
    "xs_pca = pca.fit_transform(xs)"
   ]
  },
  {
   "cell_type": "code",
   "execution_count": 191,
   "metadata": {},
   "outputs": [
    {
     "data": {
      "text/plain": [
       "<matplotlib.axes._subplots.AxesSubplot at 0x1a37e4db00>"
      ]
     },
     "execution_count": 191,
     "metadata": {},
     "output_type": "execute_result"
    },
    {
     "data": {
      "image/png": "[encoded data removed]",
      "text/plain": [
       "<Figure size 720x576 with 1 Axes>"
      ]
     },
     "metadata": {
      "needs_background": "light"
     },
     "output_type": "display_data"
    }
   ],
   "source": [
    "ys_label = [name_dict[yi] for yi in ys]\n",
    "\n",
    "plt.figure(figsize=(10, 8))\n",
    "sns.scatterplot(\n",
    "    x=xs_pca[:, 1],\n",
    "    y=xs_pca[:, 2],\n",
    "    hue=ys_label,\n",
    "    palette=sns.color_palette(\"hls\", 4),\n",
    "    alpha=0.3\n",
    ")"
   ]
  },
  {
   "cell_type": "code",
   "execution_count": 192,
   "metadata": {},
   "outputs": [
    {
     "data": {
      "image/png": "[encoded data removed]",
      "text/plain": [
       "<Figure size 720x576 with 1 Axes>"
      ]
     },
     "metadata": {
      "needs_background": "light"
     },
     "output_type": "display_data"
    }
   ],
   "source": [
    "#plot in 3D\n",
    "ax = plt.figure(figsize=(10, 8)).gca(projection='3d')\n",
    "ax.scatter(\n",
    "    xs=xs_pca[:,0], \n",
    "    ys=xs_pca[:,1], \n",
    "    zs=xs_pca[:,2], \n",
    "    c=ys, \n",
    "    cmap='jet'\n",
    ")\n",
    "ax.set_xlabel('pca-one')\n",
    "ax.set_ylabel('pca-two')\n",
    "ax.set_zlabel('pca-three')\n",
    "plt.show()"
   ]
  },
  {
   "cell_type": "markdown",
   "metadata": {},
   "source": [
    "### Using t-SNE"
   ]
  },
  {
   "cell_type": "code",
   "execution_count": 187,
   "metadata": {},
   "outputs": [
    {
     "name": "stdout",
     "output_type": "stream",
     "text": [
      "[t-SNE] Computing 119 nearest neighbors...\n",
      "[t-SNE] Indexed 120 samples in 0.000s...\n",
      "[t-SNE] Computed neighbors for 120 samples in 0.002s...\n",
      "[t-SNE] Computed conditional probabilities for sample 120 / 120\n",
      "[t-SNE] Mean sigma: 11.370625\n",
      "[t-SNE] KL divergence after 250 iterations with early exaggeration: 51.095043\n",
      "[t-SNE] KL divergence after 300 iterations: 0.074648\n"
     ]
    }
   ],
   "source": [
    "tsne = TSNE(n_components=2, verbose=1, perplexity=40, n_iter=300)\n",
    "tsne_results = tsne.fit_transform(xs)\n"
   ]
  },
  {
   "cell_type": "code",
   "execution_count": 188,
   "metadata": {},
   "outputs": [
    {
     "data": {
      "text/plain": [
       "<matplotlib.axes._subplots.AxesSubplot at 0x1a3a1222b0>"
      ]
     },
     "execution_count": 188,
     "metadata": {},
     "output_type": "execute_result"
    },
    {
     "data": {
      "image/png": "[encoded data removed]",
      "text/plain": [
       "<Figure size 720x576 with 1 Axes>"
      ]
     },
     "metadata": {
      "needs_background": "light"
     },
     "output_type": "display_data"
    }
   ],
   "source": [
    "plt.figure(figsize=(10, 8))\n",
    "sns.scatterplot(\n",
    "    x=tsne_results[:,0], y=tsne_results[:,1],\n",
    "    hue=ys_label,\n",
    "    palette=sns.color_palette(\"hls\", 4),\n",
    "#     data=xs,\n",
    "    legend=\"full\",\n",
    "#     alpha=0.3\n",
    ")"
   ]
  },
  {
   "cell_type": "code",
   "execution_count": null,
   "metadata": {},
   "outputs": [],
   "source": []
  },
  {
   "cell_type": "markdown",
   "metadata": {},
   "source": [
    "# Clustering"
   ]
  },
  {
   "cell_type": "code",
   "execution_count": 193,
   "metadata": {},
   "outputs": [],
   "source": [
    "from sklearn.cluster import KMeans\n",
    "\n",
    "km = KMeans(\n",
    "    n_clusters=4, init='random',\n",
    "    n_init=10, max_iter=300, \n",
    "    tol=1e-04, random_state=0\n",
    ")\n",
    "y_km = km.fit_predict(xs)"
   ]
  },
  {
   "cell_type": "code",
   "execution_count": 194,
   "metadata": {
    "scrolled": true
   },
   "outputs": [
    {
     "name": "stdout",
     "output_type": "stream",
     "text": [
      "accuracy = 0.475 \n",
      "precision = 0.494 \n",
      "recall = 0.475 \n",
      "f1 = 0.371\n"
     ]
    }
   ],
   "source": [
    "calculate_metrics(ys, y_km)"
   ]
  },
  {
   "cell_type": "code",
   "execution_count": 195,
   "metadata": {},
   "outputs": [
    {
     "data": {
      "text/plain": [
       "array([0, 0, 0, 0, 0, 0, 0, 0, 0, 0, 2, 2, 2, 2, 2, 2, 1, 2, 2, 2],\n",
       "      dtype=int32)"
      ]
     },
     "execution_count": 195,
     "metadata": {},
     "output_type": "execute_result"
    }
   ],
   "source": [
    "y_km[20:40]"
   ]
  },
  {
   "cell_type": "code",
   "execution_count": 196,
   "metadata": {},
   "outputs": [
    {
     "data": {
      "text/plain": [
       "array([2, 0, 0, 0, 2, 2, 2, 2, 2, 2, 2, 2, 2, 1, 1, 1, 2, 2, 2, 2],\n",
       "      dtype=int32)"
      ]
     },
     "execution_count": 196,
     "metadata": {},
     "output_type": "execute_result"
    }
   ],
   "source": [
    "y_km[40:60]"
   ]
  },
  {
   "cell_type": "markdown",
   "metadata": {},
   "source": [
    "# Homework\n",
    "\n",
    "1. How to evaluate the performance of clustering algorithm?\n",
    "2. Try with variety of parameters: coding length, model parameters, use DNA directly\n",
    "3. Using features rather than coding sequences\n",
    "4. Problems in the recommended book: https://github.com/deepchem/DeepLearningLifeSciences"
   ]
  },
  {
   "cell_type": "code",
   "execution_count": null,
   "metadata": {},
   "outputs": [],
   "source": []
  }
 ],
 "metadata": {
  "kernelspec": {
   "display_name": "Python 3",
   "language": "python",
   "name": "python3"
  },
  "language_info": {
   "codemirror_mode": {
    "name": "ipython",
    "version": 3
   },
   "file_extension": ".py",
   "mimetype": "text/x-python",
   "name": "python",
   "nbconvert_exporter": "python",
   "pygments_lexer": "ipython3",
   "version": "3.6.8"
  }
 },
 "nbformat": 4,
 "nbformat_minor": 2
}
